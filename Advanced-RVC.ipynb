{
  "cells": [
    {
      "cell_type": "markdown",
      "metadata": {
        "id": "view-in-github",
        "colab_type": "text"
      },
      "source": [
        "<a href=\"https://colab.research.google.com/github/ArkanDash/Advanced-RVC-Inference/blob/master/Advanced-RVC.ipynb\" target=\"_parent\"><img src=\"https://colab.research.google.com/assets/colab-badge.svg\" alt=\"Open In Colab\"/></a>"
      ]
    },
    {
      "cell_type": "markdown",
      "source": [
        "<h1><div align=\"center\"> Advanced RVC Inference:\n",
        "\n",
        "<big> for quicker and effortless model downloads\n",
        "\n",
        "---\n",
        "\n",
        "[Support](https://discord.gg/hvmsukmBHE) — [GitHub](https://github.com/ArkanDash/Advanced-RVC-Inference.git)"
      ],
      "metadata": {
        "id": "FZUxBujkr91c"
      }
    },
    {
      "cell_type": "code",
      "execution_count": null,
      "metadata": {
        "cellView": "form",
        "id": "sfqNqmS-rEPK"
      },
      "outputs": [],
      "source": [
        "#@title ## **Install**\n",
        "!sudo apt update\n",
        "!sudo apt install python3.10\n",
        "!sudo update-alternatives --install /usr/bin/python3 python3 /usr/bin/python3.10 1\n",
        "!sudo update-alternatives --set python3 /usr/bin/python3.10\n",
        "!curl -sS https://bootstrap.pypa.io/get-pip.py | python3\n",
        "import sys\n",
        "sys.path.append('/usr/local/lib/python3.10/dist-packages')\n",
        "\n",
        "import os\n",
        "import codecs\n",
        "from IPython.display import clear_output\n",
        "print(\"Installing requirements\")\n",
        "repo = \"https://github.com/ArkanDash/Advanced-RVC-Inference.git\"\n",
        "\n",
        "\n",
        "!git clone $repo main_program  &> /dev/null\n",
        "%cd main_program\n",
        "!pip install uv  &> /dev/null\n",
        "!uv venv .venv --python 3.10.12  &> /dev/null\n",
        "!uv pip install --no-deps -r requirements.txt  &> /dev/null\n",
        "!uv pip install torch==2.3.1 torchvision==0.18.1 torchaudio==2.3.1 --upgrade --index-url https://download.pytorch.org/whl/cu121  &> /dev/null\n",
        "!uv pip install numpy==1.23.5  &> /dev/null\n",
        "!pip install pyngrok  &> /dev/null\n",
        "!pip install tqdm  &> /dev/null\n",
        "!source .venv/bin/activate\n",
        "!python programs/applio_code/rvc/lib/tools/prerequisites_download.py\n",
        "clear_output()\n",
        "print(\"Requirements installed!\")"
      ]
    },
    {
      "cell_type": "code",
      "source": [
        "#@title ## **Start**\n",
        "import codecs\n",
        "\n",
        "!git pull -q\n",
        "\n",
        "runtime=codecs.decode(\"ncc.cl --funer\", \"rot_13\")\n",
        "!source .venv/bin/activate; python $runtime"
      ],
      "metadata": {
        "cellView": "form",
        "id": "pU5A1DTXN1do"
      },
      "execution_count": null,
      "outputs": []
    }
  ],
  "metadata": {
    "language_info": {
      "name": "python"
    },
    "orig_nbformat": 4,
    "colab": {
      "provenance": [],
      "gpuType": "T4",
      "include_colab_link": true
    },
    "kernelspec": {
      "name": "python3",
      "display_name": "Python 3"
    },
    "accelerator": "GPU"
  },
  "nbformat": 4,
  "nbformat_minor": 0
}