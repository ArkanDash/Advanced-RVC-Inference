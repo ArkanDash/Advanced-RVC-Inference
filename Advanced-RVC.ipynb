{
  "cells": [
    {
      "cell_type": "markdown",
      "source": [
        "#ADVANCED RVC INFERENCE\n",
        "\n",
        "       -quicker and effortless model downloads-\n",
        "\n",
        "* encryption method by : [blane](github.com/blane187)\n",
        "\n",
        "*  Advanced-RVC-Inference by : [ArkanDash](github.com/ArkanDash)"
      ],
      "metadata": {
        "id": "7aRsfqQX2_24"
      }
    },
    {
      "cell_type": "code",
      "execution_count": null,
      "metadata": {
        "cellView": "form",
        "id": "jC7BwCIX1ODR"
      },
      "outputs": [],
      "source": [
        "#@title Check GPU\n",
        "!nvidia-smi"
      ]
    },
    {
      "cell_type": "code",
      "execution_count": null,
      "metadata": {
        "cellView": "form",
        "id": "4WwrZ98E1ODx"
      },
      "outputs": [],
      "source": [
        "\n",
        "\n",
        "#@title Install Dependencies\n",
        "import subprocess\n",
        "import codecs\n",
        "\n",
        "\n",
        "url=codecs.decode('uggcf://tvguho.pbz/NexnaQnfu/Nqinaprq-EIP-Vasrerapr.tvg', 'rot_13')\n",
        "\n",
        "\n",
        "subprocess.run([\"apt-get\", \"update\"])\n",
        "\n",
        "# Install aria2\n",
        "subprocess.run([\"apt-get\", \"install\", \"-qq\", \"-y\", \"aria2\"])\n",
        "\n",
        "# Clone repository\n",
        "subprocess.run([\"git\", \"clone\", \"-b\", \"master\", url])\n",
        "\n",
        "# Change directory\n",
        "%cd /content/Advanced-RVC-Inference\n",
        "\n",
        "\n",
        "\n",
        "\n",
        "# Define the path to the requirements.txt file\n",
        "requirements_path = \"/content/Advanced-RVC-Inference/requirements.txt\"\n",
        "\n",
        "# Use subprocess to execute the pip install command\n",
        "subprocess.run([\"pip\", \"install\", \"-r\", requirements_path], check=True)\n",
        "\n",
        "print(\"done\")"
      ]
    },
    {
      "cell_type": "code",
      "execution_count": null,
      "metadata": {
        "cellView": "form",
        "id": "UCEctsGK1OD4"
      },
      "outputs": [],
      "source": [
        "#@title Run\n",
        "%cd /content/Advanced-RVC-Inference\n",
        "!python infer.py --colab"
      ]
    },
    {
      "cell_type": "markdown",
      "source": [
        "### Extra\n",
        "\n",
        "       for easier to use Advanced-RVC-Inference"
      ],
      "metadata": {
        "id": "bG9oJ_L77xTI"
      }
    },
    {
      "cell_type": "code",
      "source": [
        "\n",
        "#@title mount drive\n",
        "\n",
        "from google.colab import drive\n",
        "drive.mount('/content/drive')"
      ],
      "metadata": {
        "cellView": "form",
        "id": "8pQ9aMxI7zME"
      },
      "execution_count": null,
      "outputs": []
    },
    {
      "cell_type": "code",
      "source": [
        "#@title copy Advanced-RVC-Inference to drive\n",
        "\n",
        "#@markdown run this once\n",
        "\n",
        "import subprocess\n",
        "\n",
        "def copy_folder(source_folder, destination_folder):\n",
        "    try:\n",
        "        subprocess.run([\"cp\", \"-r\", source_folder, destination_folder], check=True)\n",
        "        print(\"Folder copied successfully!\")\n",
        "    except subprocess.CalledProcessError as e:\n",
        "        print(f\"Error: {e}\")\n",
        "\n",
        "\n",
        "source_folder = \"/content/Advanced-RVC-Inference\"\n",
        "destination_folder = \"/content/drive/MyDrive\"\n",
        "copy_folder(source_folder, destination_folder)"
      ],
      "metadata": {
        "cellView": "form",
        "id": "1VCc1rZX8VDS"
      },
      "execution_count": null,
      "outputs": []
    },
    {
      "cell_type": "code",
      "source": [
        "#@title run Drive version\n",
        "\n",
        "%cd /content/drive/MyDrive/Advanced-RVC-Inference\n",
        "\n",
        "\n",
        "# Define the path to the requirements.txt file\n",
        "requirements_path = \"/content/drive/MyDrive/Advanced-RVC-Inference/requirements.txt\"\n",
        "\n",
        "# Use subprocess to execute the pip install command\n",
        "subprocess.run([\"pip\", \"install\", \"-r\", requirements_path], check=True)\n",
        "\n",
        "print(\"done\")\n",
        "\n",
        "%cd /content/Advanced-RVC-Inference\n",
        "!python infer.py --colab"
      ],
      "metadata": {
        "cellView": "form",
        "id": "_DvS5uV59ARR"
      },
      "execution_count": null,
      "outputs": []
    }
  ],
  "metadata": {
    "language_info": {
      "name": "python"
    },
    "orig_nbformat": 4,
    "colab": {
      "provenance": [],
      "gpuType": "T4"
    },
    "kernelspec": {
      "name": "python3",
      "display_name": "Python 3"
    },
    "accelerator": "GPU"
  },
  "nbformat": 4,
  "nbformat_minor": 0
}