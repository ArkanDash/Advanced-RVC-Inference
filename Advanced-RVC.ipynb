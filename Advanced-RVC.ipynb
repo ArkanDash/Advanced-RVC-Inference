{
  "cells": [
    {
      "cell_type": "markdown",
      "metadata": {
        "id": "view-in-github",
        "colab_type": "text"
      },
      "source": [
        "<a href=\"https://colab.research.google.com/github/ArkanDash/Advanced-RVC-Inference/blob/master/Advanced-RVC.ipynb\" target=\"_parent\"><img src=\"https://colab.research.google.com/assets/colab-badge.svg\" alt=\"Open In Colab\"/></a>"
      ]
    },
    {
      "cell_type": "markdown",
      "source": [
        "# Advanced RVC Inference:\n",
        "\n",
        "<big> for quicker and effortless model downloads"
      ],
      "metadata": {
        "id": "FZUxBujkr91c"
      }
    },
    {
      "cell_type": "code",
      "execution_count": null,
      "metadata": {
        "cellView": "form",
        "id": "fl7Y_WjdrEO2"
      },
      "outputs": [],
      "source": [
        "#@title Check GPU\n",
        "!nvidia-smi"
      ]
    },
    {
      "cell_type": "code",
      "execution_count": null,
      "metadata": {
        "cellView": "form",
        "id": "sfqNqmS-rEPK"
      },
      "outputs": [],
      "source": [
        "#@title Install Dependencies\n",
        "from IPython.display import clear_output\n",
        "from ipywidgets import Button\n",
        "\n",
        "\n",
        "\n",
        "\n",
        "# ===== Clone Repository ===== #\n",
        "\n",
        "!git clone -b master https://github.com/ArkanDash/Advanced-RVC-Inference\n",
        "\n",
        "%cd  /content/Advanced-RVC-Inference\n",
        "\n",
        "\n",
        "\n",
        "# ===== Install requirements ===== #\n",
        "!pip install pip==24.0\n",
        "!pip install -r ./requirements.txt"
      ]
    },
    {
      "cell_type": "code",
      "execution_count": null,
      "metadata": {
        "cellView": "form",
        "id": "95tEKjsUrEPQ"
      },
      "outputs": [],
      "source": [
        "#@title Download Hubert & base Model\n",
        "\n",
        "\n",
        "\n",
        "\n",
        "!python ./models.py"
      ]
    },
    {
      "cell_type": "code",
      "source": [
        "#@title youtube downloader for separation\n",
        "import yt_dlp\n",
        "import os\n",
        "\n",
        "def download_wav(video_url, output_dir):\n",
        "  ydl_opts = {\n",
        "      'format': 'bestaudio/best',\n",
        "      'outtmpl': os.path.join(output_dir, '%(title)s.%(ext)s'),\n",
        "      'noplaylist': True,  # Download only a single video, not a playlist\n",
        "      'extract_audio': True,\n",
        "      'audio_format': 'wav', # Ensure WAV format\n",
        "      'postprocessors': [{\n",
        "          'key': 'FFmpegExtractAudio',\n",
        "          'preferredcodec': 'wav',\n",
        "      }]\n",
        "  }\n",
        "\n",
        "  try:\n",
        "      with yt_dlp.YoutubeDL(ydl_opts) as ydl:\n",
        "          ydl.download([video_url])\n",
        "          print(f\"Download completed. Audio saved in {output_dir}\")\n",
        "  except yt_dlp.utils.DownloadError as e:\n",
        "      print(f\"An error occurred: {e}\")\n",
        "\n",
        "# Example usage\n",
        "video_url = 'Video_URL' #@param {type:\"string\"}\n",
        " # Replace with your YouTube video URL\n",
        "output_directory = '/content/yt_dlp' #@param {type:\"string\"}\n",
        " # customize your output directory\n",
        "\n",
        "# Create the output directory if it doesn't exist.\n",
        "os.makedirs(output_directory, exist_ok=True)\n",
        "\n",
        "download_wav(video_url, output_directory)"
      ],
      "metadata": {
        "cellView": "form",
        "id": "hDYUwhTXJI3_"
      },
      "execution_count": null,
      "outputs": []
    },
    {
      "cell_type": "code",
      "source": [
        "#@title audio separator for infernece\n",
        "\n",
        "\n",
        "\n",
        "from audio_separator.separator import Separator\n",
        "\n",
        "aud_input = \"Input_aud\"  #@param {type:\"string\"}\n",
        "\n",
        "output_dir = \"/content/separated\"  #@param {type:\"string\"}\n",
        "\n",
        "# Initialize the Separator class (with optional configuration properties, below)\n",
        "separator = Separator(output_dir=output_dir, output_format=\"wav\")\n",
        "\n",
        "separator.load_model()\n",
        "\n",
        "output_names = {\n",
        "    \"Vocals\": \"vocals_output\",\n",
        "    \"Instrumental\": \"instrumental_output\",\n",
        "}\n",
        "output_files = separator.separate(aud_input, output_names)\n",
        "print(f\"Separation complete!\")"
      ],
      "metadata": {
        "cellView": "form",
        "id": "1pwvdDeHJmU6"
      },
      "execution_count": null,
      "outputs": []
    },
    {
      "cell_type": "code",
      "source": [
        "\n",
        "\n",
        "\n",
        "\n",
        "#@title ## Inference\n",
        "import os\n",
        "main_dir = \"/content/Harmonify\"\n",
        "os.chdir(main_dir)\n",
        "from lib.infer import infer_audio\n",
        "from google.colab import files\n",
        "from pydub import AudioSegment\n",
        "import shutil\n",
        "\n",
        "MODEL_NAME = \"\" #@param {type:\"string\"}\n",
        "SOUND_PATH = \"\" #@param {type:\"string\"}\n",
        "F0_CHANGE = 0 #@param {type:\"integer\"}\n",
        "F0_METHOD = \"fcpe\" #@param [\"crepe\", \"harvest\", \"mangio-crepe\", \"rmvpe\", \"rmvpe+\", \"fcpe\", \"fcpe_legacy\", \"hybrid[mangio-crepe+rmvpe]\", \"hybrid[mangio-crepe+fcpe]\", \"hybrid[rmvpe+fcpe]\", \"hybrid[mangio-crepe+rmvpe+fcpe]\"] {allow-input:true}\n",
        "CREPE_HOP_LENGTH = 120 #@param {type:\"integer\"}\n",
        "INDEX_RATE = 0.75 #@param {type:\"number\"}\n",
        "FILTER_RADIUS = 3 #@param {type:\"integer\"}\n",
        "RMS_MIX_RATE = 0.25 #@param {type:\"number\"}\n",
        "PROTECT = 0.33 #@param {type:\"number\"}\n",
        "SPLIT_INFER = False #@param {type:\"boolean\"}\n",
        "MIN_SILENCE = 500 #@param {type:\"number\"}\n",
        "SILENCE_THRESHOLD = -50 #@param {type:\"number\"}\n",
        "SEEK_STEP = 1 #@param {type:\"slider\", min:1, max:10, step:1}\n",
        "KEEP_SILENCE = 200 #@param {type:\"number\"}\n",
        "QUEFRENCY = 0 #@param {type:\"number\"}\n",
        "TIMBRE = 1 #@param {type:\"number\"}\n",
        "F0_AUTOTUNE = False #@param {type:\"boolean\"}\n",
        "OUTPUT_FORMAT = \"wav\" #@param [\"wav\", \"flac\", \"mp3\"]\n",
        "\n",
        "\n",
        "\n",
        "inferred_audio = infer_audio(\n",
        "    MODEL_NAME,\n",
        "    SOUND_PATH,\n",
        "    F0_CHANGE,\n",
        "    F0_METHOD,\n",
        "    CREPE_HOP_LENGTH,\n",
        "    INDEX_RATE,\n",
        "    FILTER_RADIUS,\n",
        "    RMS_MIX_RATE,\n",
        "    PROTECT,\n",
        "    SPLIT_INFER,\n",
        "    MIN_SILENCE,\n",
        "    SILENCE_THRESHOLD,\n",
        "    SEEK_STEP,\n",
        "    KEEP_SILENCE,\n",
        "    QUEFRENCY,\n",
        "    TIMBRE,\n",
        "    F0_AUTOTUNE,\n",
        "    OUTPUT_FORMAT\n",
        ")\n",
        "os.chdir(main_dir)\n",
        "\n",
        "print(f\"Showing {inferred_audio}.\")\n",
        "AudioSegment.from_file(inferred_audio)"
      ],
      "metadata": {
        "cellView": "form",
        "id": "PKIrHe_nIou9"
      },
      "execution_count": null,
      "outputs": []
    }
  ],
  "metadata": {
    "language_info": {
      "name": "python"
    },
    "orig_nbformat": 4,
    "colab": {
      "provenance": [],
      "gpuType": "T4",
      "include_colab_link": true
    },
    "kernelspec": {
      "name": "python3",
      "display_name": "Python 3"
    },
    "accelerator": "GPU"
  },
  "nbformat": 4,
  "nbformat_minor": 0
}