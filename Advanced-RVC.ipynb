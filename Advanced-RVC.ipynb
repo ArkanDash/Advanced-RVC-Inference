{
  "cells": [
    {
      "cell_type": "markdown",
      "source": [
        "#ADVANCED RVC INFERENCE\n",
        "\n",
        "       -quicker and effortless model downloads-\n",
        "\n",
        "* encryption method by : [blane](github.com/blane187)\n",
        "\n",
        "*  Advanced-RVC-Inference by : [ArkanDash](github.com/ArkanDash)"
      ],
      "metadata": {
        "id": "7aRsfqQX2_24"
      }
    },
    {
      "cell_type": "code",
      "execution_count": null,
      "metadata": {
        "cellView": "form",
        "id": "jC7BwCIX1ODR"
      },
      "outputs": [],
      "source": [
        "#@title Check GPU\n",
        "!nvidia-smi"
      ]
    },
    {
      "cell_type": "code",
      "execution_count": null,
      "metadata": {
        "cellView": "form",
        "id": "4WwrZ98E1ODx"
      },
      "outputs": [],
      "source": [
        "\n",
        "\n",
        "#@title Install Dependencies\n",
        "import subprocess\n",
        "\n",
        "url=codecs.decode('uggcf://tvguho.pbz/NexnaQnfu/Nqinaprq-EIP-Vasrerapr.tvg', 'rot_13')\n",
        "\n",
        "\n",
        "\n",
        "\n",
        "\n",
        "subprocess.run([\"apt-get\", \"update\"])\n",
        "\n",
        "# Install aria2\n",
        "subprocess.run([\"apt-get\", \"install\", \"-qq\", \"-y\", \"aria2\"])\n",
        "\n",
        "# Clone repository\n",
        "subprocess.run([\"git\", \"clone\", \"-b\", \"master\", url])\n",
        "\n",
        "# Change directory\n",
        "%cd /content/Advanced-RVC-Inference\n",
        "\n",
        "\n",
        "\n",
        "\n",
        "# Define the path to the requirements.txt file\n",
        "requirements_path = \"/content/Advanced-RVC-Inference/requirements.txt\"\n",
        "\n",
        "# Use subprocess to execute the pip install command\n",
        "subprocess.run([\"pip\", \"install\", \"-r\", requirements_path], check=True)\n",
        "ptint(\"done\")"
      ]
    },
    {
      "cell_type": "code",
      "execution_count": null,
      "metadata": {
        "cellView": "form",
        "id": "UCEctsGK1OD4"
      },
      "outputs": [],
      "source": [
        "#@title Run\n",
        "%cd /content/Advanced-RVC-Inference\n",
        "!python infer.py --colab"
      ]
    }
  ],
  "metadata": {
    "language_info": {
      "name": "python"
    },
    "orig_nbformat": 4,
    "colab": {
      "provenance": []
    },
    "kernelspec": {
      "name": "python3",
      "display_name": "Python 3"
    }
  },
  "nbformat": 4,
  "nbformat_minor": 0
}
