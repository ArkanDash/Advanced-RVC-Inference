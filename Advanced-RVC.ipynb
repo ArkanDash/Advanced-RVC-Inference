{
  "cells": [
    {
      "cell_type": "markdown",
      "metadata": {
        "id": "view-in-github",
        "colab_type": "text"
      },
      "source": [
        "<a href=\"https://colab.research.google.com/github/ArkanDash/Advanced-RVC-Inference/blob/master/Advanced-RVC.ipynb\" target=\"_parent\"><img src=\"https://colab.research.google.com/assets/colab-badge.svg\" alt=\"Open In Colab\"/></a>"
      ]
    },
    {
      "cell_type": "markdown",
      "source": [
        "<h1><div align=\"center\"> Advanced RVC Inference:\n",
        "\n",
        "<big> for quicker and effortless model downloads\n",
        "\n",
        "---\n",
        "\n",
        "[Support](https://discord.gg/hvmsukmBHE) — [GitHub](https://github.com/ArkanDash/Advanced-RVC-Inference.git)"
      ],
      "metadata": {
        "id": "FZUxBujkr91c"
      }
    },
    {
      "cell_type": "code",
      "execution_count": null,
      "metadata": {
        "cellView": "form",
        "id": "sfqNqmS-rEPK"
      },
      "outputs": [],
      "source": [
        "\n",
        "#@title ## **Setup and Installation**\n",
        "import os\n",
        "import subprocess\n",
        "import codecs\n",
        "\n",
        "def run_command(command, error_message, capture_output=True):\n",
        "    \"\"\"Runs a shell command and handles errors.\"\"\"\n",
        "    try:\n",
        "        result = subprocess.run(command, shell=True, text=True, capture_output=capture_output, check=True)\n",
        "        if capture_output:\n",
        "            return result.stdout.strip()\n",
        "    except subprocess.CalledProcessError as e:\n",
        "        print(f\"❌ {error_message}: {e.stderr.strip() if e.stderr else 'No details available'}\")\n",
        "        raise\n",
        "\n",
        "def main():\n",
        "    print(\"🚀: Initializing setup...\")\n",
        "\n",
        "    # Decode repository URL\n",
        "    repo_url = codecs.decode(\"uggcf://tvguho.pbz/NexnaQnfu/Nqinaprq-EIP-Vasrerapr.tvg\", \"rot_13\")\n",
        "\n",
        "    # Clone repository\n",
        "    print(\"📥: Cloning repository...\")\n",
        "    run_command(f\"git clone {repo_url} main_program\", \"Failed to clone repository\")\n",
        "\n",
        "    # Change directory\n",
        "    os.chdir(\"main_program\")\n",
        "\n",
        "    # Install UV package manager\n",
        "    print(\"📦: Installing UV package manager...\")\n",
        "    run_command(\"pip install uv\", \"Failed to install UV\")\n",
        "\n",
        "    # Create and activate virtual environment\n",
        "    print(\"🔧: Setting up virtual environment...\")\n",
        "    run_command(\"uv venv .venv\", \"Failed to create virtual environment\")\n",
        "\n",
        "    # Install dependencies\n",
        "    print(\"📌: Installing dependencies...\")\n",
        "    run_command(\"uv pip install --no-deps -r requirements.txt\", \"Failed to install dependencies\")\n",
        "\n",
        "    # Install PyTorch with CUDA support\n",
        "    print(\"🔥: Installing PyTorch (CUDA 12.1)...\")\n",
        "    run_command(\"uv pip install torch==2.3.1 torchvision==0.18.1 torchaudio==2.3.1 --upgrade --index-url https://download.pytorch.org/whl/cu121\",\n",
        "                \"Failed to install PyTorch\")\n",
        "\n",
        "    # Ensure correct NumPy version\n",
        "    print(\"🔢: Installing NumPy 1.23.5...\")\n",
        "    run_command(\"uv pip install numpy==1.23.5\", \"Failed to install NumPy\")\n",
        "\n",
        "    # Install pyngrok for tunneling\n",
        "    print(\"🌐: Installing pyngrok...\")\n",
        "    run_command(\"pip install pyngrok\", \"Failed to install pyngrok\")\n",
        "\n",
        "    # Run prerequisite download script\n",
        "    print(\"🔄: Downloading prerequisites...\")\n",
        "    run_command(\"source .venv/bin/activate; python programs/applio_code/rvc/lib/tools/prerequisites_download.py\",\n",
        "                \"Failed to execute prerequisites script\")\n",
        "\n",
        "    print(\"✅: Setup complete! All requirements installed successfully.\")\n",
        "\n",
        "if __name__ == \"__main__\":\n",
        "    main()"
      ]
    },
    {
      "cell_type": "code",
      "source": [
        "#@title ## **Start**\n",
        "import codecs\n",
        "\n",
        "!git pull -q\n",
        "\n",
        "runtime=codecs.decode(\"ncc.cl --funer\", \"rot_13\")\n",
        "!source .venv/bin/activate; python $runtime"
      ],
      "metadata": {
        "cellView": "form",
        "id": "pU5A1DTXN1do"
      },
      "execution_count": null,
      "outputs": []
    }
  ],
  "metadata": {
    "language_info": {
      "name": "python"
    },
    "orig_nbformat": 4,
    "colab": {
      "provenance": [],
      "gpuType": "T4",
      "include_colab_link": true
    },
    "kernelspec": {
      "name": "python3",
      "display_name": "Python 3"
    },
    "accelerator": "GPU"
  },
  "nbformat": 4,
  "nbformat_minor": 0
}