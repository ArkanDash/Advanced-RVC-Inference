{
  "cells": [
    {
      "cell_type": "markdown",
      "metadata": {
        "id": "view-in-github",
        "colab_type": "text"
      },
      "source": [
        "<a href=\"https://colab.research.google.com/github/ArkanDash/Advanced-RVC-Inference/blob/master/Advanced-RVC.ipynb\" target=\"_parent\"><img src=\"https://colab.research.google.com/assets/colab-badge.svg\" alt=\"Open In Colab\"/></a>"
      ]
    },
    {
      "cell_type": "markdown",
      "source": [
        "# Advanced RVC Inference:\n",
        "\n",
        "<big> for quicker and effortless model downloads"
      ],
      "metadata": {
        "id": "FZUxBujkr91c"
      }
    },
    {
      "cell_type": "code",
      "execution_count": null,
      "metadata": {
        "cellView": "form",
        "id": "fl7Y_WjdrEO2"
      },
      "outputs": [],
      "source": [
        "#@title Check GPU\n",
        "!nvidia-smi"
      ]
    },
    {
      "cell_type": "code",
      "execution_count": null,
      "metadata": {
        "cellView": "form",
        "id": "sfqNqmS-rEPK"
      },
      "outputs": [],
      "source": [
        "#@title Install Dependencies\n",
        "from IPython.display import clear_output\n",
        "from ipywidgets import Button\n",
        "\n",
        "\n",
        "\n",
        "!apt-get update\n",
        "!apt-get install -qq -y aria2\n",
        "clear_output()\n",
        "\n",
        "\n",
        "# ===== Downgrade Python to 3.10 ===== #\n",
        "!sudo apt-get update\n",
        "!sudo apt-get install python3.10\n",
        "!sudo update-alternatives --install /usr/bin/python3 python3 /usr/bin/python3.10 1\n",
        "!sudo update-alternatives --set python3 /usr/bin/python3.10\n",
        "!curl https://bootstrap.pypa.io/get-pip.py -o get-pip.py\n",
        "!python3.10 get-pip.py\n",
        "!python3.10 -m pip install --upgrade pip==24.0\n",
        "clear_output()\n",
        "\n",
        "# ===== Clone Repository ===== #\n",
        "\n",
        "!git clone -b master https://github.com/ArkanDash/Advanced-RVC-Inference\n",
        "\n",
        "%cd  /content/Advanced-RVC-Inference\n",
        "\n",
        "# ===== Install requirements ===== #\n",
        "\n",
        "!pip install -r ./requirements.txt"
      ]
    },
    {
      "cell_type": "code",
      "execution_count": null,
      "metadata": {
        "cellView": "form",
        "id": "95tEKjsUrEPQ"
      },
      "outputs": [],
      "source": [
        "#@title Download Hubert & base Model\n",
        "\n",
        "\n",
        "\n",
        "\n",
        "!python ./models.py"
      ]
    },
    {
      "cell_type": "code",
      "execution_count": null,
      "metadata": {
        "cellView": "form",
        "id": "zG9oR-iDrEPX"
      },
      "outputs": [],
      "source": [
        "#@title Run WebUI\n",
        "\n",
        "\n",
        "!python infer.py --colab"
      ]
    }
  ],
  "metadata": {
    "language_info": {
      "name": "python"
    },
    "orig_nbformat": 4,
    "colab": {
      "provenance": [],
      "include_colab_link": true
    }
  },
  "nbformat": 4,
  "nbformat_minor": 0
}