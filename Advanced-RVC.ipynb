{
  "cells": [
    {
      "cell_type": "markdown",
      "source": [
        "<h1><div/align=\"center\"> Advanced RVC Inference\n",
        "\n",
        "---\n",
        "\n",
        "<big> for quicker and effortless model downloads\n",
        "\n",
        "---\n",
        "\n",
        "[Support](https://discord.gg/hvmsukmBHE) — [GitHub](https://github.com/ArkanDash/Advanced-RVC-Inference.git)"
      ],
      "metadata": {
        "id": "FZUxBujkr91c"
      }
    },
    {
      "cell_type": "code",
      "execution_count": null,
      "metadata": {
        "cellView": "form",
        "id": "sfqNqmS-rEPK"
      },
      "outputs": [],
      "source": [
        "#@title ## **Install**\n",
        "\n",
        "\n",
        "import os\n",
        "import codecs\n",
        "from IPython.display import clear_output\n",
        "\n",
        "\n",
        "\n",
        "print(\"Installing requirements\")\n",
        "\n",
        "repo = \"https://github.com/ArkanDash/Advanced-RVC-Inference.git\"\n",
        "\n",
        "!git clone $repo main_program\n",
        "%cd main_program\n",
        "\n",
        "# Install older python\n",
        "!sudo apt-get update && sudo apt-get install -y python3.11-dev portaudio19-dev\n",
        "!update-alternatives --install /usr/bin/python3 python3 /usr/bin/python3.11 2\n",
        "!update-alternatives --set python3 /usr/bin/python3.11\n",
        "from sys import path\n",
        "path.append('/usr/local/lib/python3.11/dist-packages')\n",
        "\n",
        "print(\"Installing requirements...\")\n",
        "!curl -LsSf https://astral.sh/uv/install.sh | sh\n",
        "!uv pip install -q -r requirements.txt --extra-index-url https://download.pytorch.org/whl/cu128 --index-strategy unsafe-best-match\n",
        "!uv pip install -q ngrok jupyter-ui-poll\n",
        "\n",
        "\n",
        "clear_output()\n",
        "print(\"Requirements installed!\")"
      ]
    },
    {
      "cell_type": "code",
      "source": [
        "#@title ## **Start**\n",
        "import codecs\n",
        "\n",
        "!git pull -q\n",
        "\n",
        "runtime=codecs.decode(\"ncc.cl --funer\", \"rot_13\")\n",
        "!python $runtime --share"
      ],
      "metadata": {
        "cellView": "form",
        "id": "pU5A1DTXN1do"
      },
      "execution_count": null,
      "outputs": []
    }
  ],
  "metadata": {
    "language_info": {
      "name": "python"
    },
    "orig_nbformat": 4,
    "colab": {
      "provenance": [],
      "gpuType": "T4"
    },
    "kernelspec": {
      "name": "python3",
      "display_name": "Python 3"
    },
    "accelerator": "GPU"
  },
  "nbformat": 4,
  "nbformat_minor": 0
}
